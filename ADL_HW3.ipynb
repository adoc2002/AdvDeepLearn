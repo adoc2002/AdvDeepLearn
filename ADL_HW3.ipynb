{
  "nbformat": 4,
  "nbformat_minor": 0,
  "metadata": {
    "colab": {
      "provenance": [],
      "authorship_tag": "ABX9TyPxnfntCc3lqfJWxIoiMPIi",
      "include_colab_link": true
    },
    "kernelspec": {
      "name": "python3",
      "display_name": "Python 3"
    },
    "language_info": {
      "name": "python"
    }
  },
  "cells": [
    {
      "cell_type": "markdown",
      "metadata": {
        "id": "view-in-github",
        "colab_type": "text"
      },
      "source": [
        "<a href=\"https://colab.research.google.com/github/adoc2002/AdvDeepLearn/blob/main/ADL_HW3.ipynb\" target=\"_parent\"><img src=\"https://colab.research.google.com/assets/colab-badge.svg\" alt=\"Open In Colab\"/></a>"
      ]
    },
    {
      "cell_type": "code",
      "execution_count": 1,
      "metadata": {
        "colab": {
          "base_uri": "https://localhost:8080/"
        },
        "id": "h5hjCcLDr2WC",
        "outputId": "3ab79255-85a3-4595-8d95-a494367f3ac4"
      },
      "outputs": [
        {
          "output_type": "stream",
          "name": "stdout",
          "text": [
            "--2023-12-09 21:53:11--  https://raw.githubusercontent.com/karpathy/char-rnn/master/data/tinyshakespeare/input.txt\n",
            "Resolving raw.githubusercontent.com (raw.githubusercontent.com)... 185.199.111.133, 185.199.109.133, 185.199.110.133, ...\n",
            "Connecting to raw.githubusercontent.com (raw.githubusercontent.com)|185.199.111.133|:443... connected.\n",
            "HTTP request sent, awaiting response... 200 OK\n",
            "Length: 1115394 (1.1M) [text/plain]\n",
            "Saving to: ‘input.txt’\n",
            "\n",
            "input.txt           100%[===================>]   1.06M  --.-KB/s    in 0.07s   \n",
            "\n",
            "2023-12-09 21:53:11 (15.6 MB/s) - ‘input.txt’ saved [1115394/1115394]\n",
            "\n"
          ]
        }
      ],
      "source": [
        "# We always start with a dataset to train on. Let's download the tiny shakespeare dataset\n",
        "!wget https://raw.githubusercontent.com/karpathy/char-rnn/master/data/tinyshakespeare/input.txt"
      ]
    },
    {
      "cell_type": "code",
      "source": [
        "from google.colab import drive\n",
        "drive.mount('/content/drive')\n"
      ],
      "metadata": {
        "colab": {
          "base_uri": "https://localhost:8080/"
        },
        "id": "Eaytf8Oe3KOS",
        "outputId": "e1b80e42-fb1d-4b39-94fc-b23f2f1a27c7"
      },
      "execution_count": 2,
      "outputs": [
        {
          "output_type": "stream",
          "name": "stdout",
          "text": [
            "Mounted at /content/drive\n"
          ]
        }
      ]
    },
    {
      "cell_type": "code",
      "source": [
        "with open('input.txt', 'r',encoding='utf-8') as f:\n",
        "  text = f.read()"
      ],
      "metadata": {
        "id": "GMOd4xl1auE-"
      },
      "execution_count": 3,
      "outputs": []
    },
    {
      "cell_type": "code",
      "source": [
        "print(\"length of the dataset in characters:\", len(text))"
      ],
      "metadata": {
        "colab": {
          "base_uri": "https://localhost:8080/"
        },
        "id": "iAiWtfK_bAAn",
        "outputId": "95fefefa-d2ea-4f21-faf7-315d5c27fce1"
      },
      "execution_count": 4,
      "outputs": [
        {
          "output_type": "stream",
          "name": "stdout",
          "text": [
            "length of the dataset in characters: 1115394\n"
          ]
        }
      ]
    },
    {
      "cell_type": "code",
      "source": [
        "print(text[:1000])"
      ],
      "metadata": {
        "colab": {
          "base_uri": "https://localhost:8080/"
        },
        "id": "PO1TK5w-csOt",
        "outputId": "c9f788f6-c4f1-44d4-9622-6fd58e7ae43d"
      },
      "execution_count": 5,
      "outputs": [
        {
          "output_type": "stream",
          "name": "stdout",
          "text": [
            "First Citizen:\n",
            "Before we proceed any further, hear me speak.\n",
            "\n",
            "All:\n",
            "Speak, speak.\n",
            "\n",
            "First Citizen:\n",
            "You are all resolved rather to die than to famish?\n",
            "\n",
            "All:\n",
            "Resolved. resolved.\n",
            "\n",
            "First Citizen:\n",
            "First, you know Caius Marcius is chief enemy to the people.\n",
            "\n",
            "All:\n",
            "We know't, we know't.\n",
            "\n",
            "First Citizen:\n",
            "Let us kill him, and we'll have corn at our own price.\n",
            "Is't a verdict?\n",
            "\n",
            "All:\n",
            "No more talking on't; let it be done: away, away!\n",
            "\n",
            "Second Citizen:\n",
            "One word, good citizens.\n",
            "\n",
            "First Citizen:\n",
            "We are accounted poor citizens, the patricians good.\n",
            "What authority surfeits on would relieve us: if they\n",
            "would yield us but the superfluity, while it were\n",
            "wholesome, we might guess they relieved us humanely;\n",
            "but they think we are too dear: the leanness that\n",
            "afflicts us, the object of our misery, is as an\n",
            "inventory to particularise their abundance; our\n",
            "sufferance is a gain to them Let us revenge this with\n",
            "our pikes, ere we become rakes: for the gods know I\n",
            "speak this in hunger for bread, not in thirst for revenge.\n",
            "\n",
            "\n"
          ]
        }
      ]
    },
    {
      "cell_type": "code",
      "source": [
        "chars=sorted(list(set(text)))\n",
        "vocab_size=len(chars)\n",
        "print(''.join(chars))\n",
        "print(vocab_size)"
      ],
      "metadata": {
        "colab": {
          "base_uri": "https://localhost:8080/"
        },
        "id": "Im0sO35yg8x_",
        "outputId": "dbb9ff6c-49f3-43ee-a2f6-e4faccfad333"
      },
      "execution_count": 6,
      "outputs": [
        {
          "output_type": "stream",
          "name": "stdout",
          "text": [
            "\n",
            " !$&',-.3:;?ABCDEFGHIJKLMNOPQRSTUVWXYZabcdefghijklmnopqrstuvwxyz\n",
            "65\n"
          ]
        }
      ]
    },
    {
      "cell_type": "code",
      "source": [
        "stoi={ch:i for i,ch in enumerate(chars)}\n",
        "itos={i:ch for i,ch in enumerate(chars)}\n",
        "encode=lambda s: [stoi[c] for c in s]\n",
        "decode=lambda l: ''.join([itos[i]for i in l])\n",
        "print(encode(\"Hello\"))\n",
        "print(decode(encode(\"Hello\")))"
      ],
      "metadata": {
        "colab": {
          "base_uri": "https://localhost:8080/"
        },
        "id": "cQlfK7atiW5O",
        "outputId": "607bab62-6ffe-4248-e766-d9c1a688721d"
      },
      "execution_count": 7,
      "outputs": [
        {
          "output_type": "stream",
          "name": "stdout",
          "text": [
            "[20, 43, 50, 50, 53]\n",
            "Hello\n"
          ]
        }
      ]
    },
    {
      "cell_type": "code",
      "source": [
        "import torch  #Change the first 1000 words into integers\n",
        "data=torch.tensor(encode(text), dtype=torch.long)\n",
        "print(data.shape, data.dtype)\n",
        "print(data[:1000])"
      ],
      "metadata": {
        "colab": {
          "base_uri": "https://localhost:8080/"
        },
        "id": "lhZoDxETpcPW",
        "outputId": "5c741f5c-db55-4000-c4b1-16d6d9183caf"
      },
      "execution_count": 8,
      "outputs": [
        {
          "output_type": "stream",
          "name": "stdout",
          "text": [
            "torch.Size([1115394]) torch.int64\n",
            "tensor([18, 47, 56, 57, 58,  1, 15, 47, 58, 47, 64, 43, 52, 10,  0, 14, 43, 44,\n",
            "        53, 56, 43,  1, 61, 43,  1, 54, 56, 53, 41, 43, 43, 42,  1, 39, 52, 63,\n",
            "         1, 44, 59, 56, 58, 46, 43, 56,  6,  1, 46, 43, 39, 56,  1, 51, 43,  1,\n",
            "        57, 54, 43, 39, 49,  8,  0,  0, 13, 50, 50, 10,  0, 31, 54, 43, 39, 49,\n",
            "         6,  1, 57, 54, 43, 39, 49,  8,  0,  0, 18, 47, 56, 57, 58,  1, 15, 47,\n",
            "        58, 47, 64, 43, 52, 10,  0, 37, 53, 59,  1, 39, 56, 43,  1, 39, 50, 50,\n",
            "         1, 56, 43, 57, 53, 50, 60, 43, 42,  1, 56, 39, 58, 46, 43, 56,  1, 58,\n",
            "        53,  1, 42, 47, 43,  1, 58, 46, 39, 52,  1, 58, 53,  1, 44, 39, 51, 47,\n",
            "        57, 46, 12,  0,  0, 13, 50, 50, 10,  0, 30, 43, 57, 53, 50, 60, 43, 42,\n",
            "         8,  1, 56, 43, 57, 53, 50, 60, 43, 42,  8,  0,  0, 18, 47, 56, 57, 58,\n",
            "         1, 15, 47, 58, 47, 64, 43, 52, 10,  0, 18, 47, 56, 57, 58,  6,  1, 63,\n",
            "        53, 59,  1, 49, 52, 53, 61,  1, 15, 39, 47, 59, 57,  1, 25, 39, 56, 41,\n",
            "        47, 59, 57,  1, 47, 57,  1, 41, 46, 47, 43, 44,  1, 43, 52, 43, 51, 63,\n",
            "         1, 58, 53,  1, 58, 46, 43,  1, 54, 43, 53, 54, 50, 43,  8,  0,  0, 13,\n",
            "        50, 50, 10,  0, 35, 43,  1, 49, 52, 53, 61,  5, 58,  6,  1, 61, 43,  1,\n",
            "        49, 52, 53, 61,  5, 58,  8,  0,  0, 18, 47, 56, 57, 58,  1, 15, 47, 58,\n",
            "        47, 64, 43, 52, 10,  0, 24, 43, 58,  1, 59, 57,  1, 49, 47, 50, 50,  1,\n",
            "        46, 47, 51,  6,  1, 39, 52, 42,  1, 61, 43,  5, 50, 50,  1, 46, 39, 60,\n",
            "        43,  1, 41, 53, 56, 52,  1, 39, 58,  1, 53, 59, 56,  1, 53, 61, 52,  1,\n",
            "        54, 56, 47, 41, 43,  8,  0, 21, 57,  5, 58,  1, 39,  1, 60, 43, 56, 42,\n",
            "        47, 41, 58, 12,  0,  0, 13, 50, 50, 10,  0, 26, 53,  1, 51, 53, 56, 43,\n",
            "         1, 58, 39, 50, 49, 47, 52, 45,  1, 53, 52,  5, 58, 11,  1, 50, 43, 58,\n",
            "         1, 47, 58,  1, 40, 43,  1, 42, 53, 52, 43, 10,  1, 39, 61, 39, 63,  6,\n",
            "         1, 39, 61, 39, 63,  2,  0,  0, 31, 43, 41, 53, 52, 42,  1, 15, 47, 58,\n",
            "        47, 64, 43, 52, 10,  0, 27, 52, 43,  1, 61, 53, 56, 42,  6,  1, 45, 53,\n",
            "        53, 42,  1, 41, 47, 58, 47, 64, 43, 52, 57,  8,  0,  0, 18, 47, 56, 57,\n",
            "        58,  1, 15, 47, 58, 47, 64, 43, 52, 10,  0, 35, 43,  1, 39, 56, 43,  1,\n",
            "        39, 41, 41, 53, 59, 52, 58, 43, 42,  1, 54, 53, 53, 56,  1, 41, 47, 58,\n",
            "        47, 64, 43, 52, 57,  6,  1, 58, 46, 43,  1, 54, 39, 58, 56, 47, 41, 47,\n",
            "        39, 52, 57,  1, 45, 53, 53, 42,  8,  0, 35, 46, 39, 58,  1, 39, 59, 58,\n",
            "        46, 53, 56, 47, 58, 63,  1, 57, 59, 56, 44, 43, 47, 58, 57,  1, 53, 52,\n",
            "         1, 61, 53, 59, 50, 42,  1, 56, 43, 50, 47, 43, 60, 43,  1, 59, 57, 10,\n",
            "         1, 47, 44,  1, 58, 46, 43, 63,  0, 61, 53, 59, 50, 42,  1, 63, 47, 43,\n",
            "        50, 42,  1, 59, 57,  1, 40, 59, 58,  1, 58, 46, 43,  1, 57, 59, 54, 43,\n",
            "        56, 44, 50, 59, 47, 58, 63,  6,  1, 61, 46, 47, 50, 43,  1, 47, 58,  1,\n",
            "        61, 43, 56, 43,  0, 61, 46, 53, 50, 43, 57, 53, 51, 43,  6,  1, 61, 43,\n",
            "         1, 51, 47, 45, 46, 58,  1, 45, 59, 43, 57, 57,  1, 58, 46, 43, 63,  1,\n",
            "        56, 43, 50, 47, 43, 60, 43, 42,  1, 59, 57,  1, 46, 59, 51, 39, 52, 43,\n",
            "        50, 63, 11,  0, 40, 59, 58,  1, 58, 46, 43, 63,  1, 58, 46, 47, 52, 49,\n",
            "         1, 61, 43,  1, 39, 56, 43,  1, 58, 53, 53,  1, 42, 43, 39, 56, 10,  1,\n",
            "        58, 46, 43,  1, 50, 43, 39, 52, 52, 43, 57, 57,  1, 58, 46, 39, 58,  0,\n",
            "        39, 44, 44, 50, 47, 41, 58, 57,  1, 59, 57,  6,  1, 58, 46, 43,  1, 53,\n",
            "        40, 48, 43, 41, 58,  1, 53, 44,  1, 53, 59, 56,  1, 51, 47, 57, 43, 56,\n",
            "        63,  6,  1, 47, 57,  1, 39, 57,  1, 39, 52,  0, 47, 52, 60, 43, 52, 58,\n",
            "        53, 56, 63,  1, 58, 53,  1, 54, 39, 56, 58, 47, 41, 59, 50, 39, 56, 47,\n",
            "        57, 43,  1, 58, 46, 43, 47, 56,  1, 39, 40, 59, 52, 42, 39, 52, 41, 43,\n",
            "        11,  1, 53, 59, 56,  0, 57, 59, 44, 44, 43, 56, 39, 52, 41, 43,  1, 47,\n",
            "        57,  1, 39,  1, 45, 39, 47, 52,  1, 58, 53,  1, 58, 46, 43, 51,  1, 24,\n",
            "        43, 58,  1, 59, 57,  1, 56, 43, 60, 43, 52, 45, 43,  1, 58, 46, 47, 57,\n",
            "         1, 61, 47, 58, 46,  0, 53, 59, 56,  1, 54, 47, 49, 43, 57,  6,  1, 43,\n",
            "        56, 43,  1, 61, 43,  1, 40, 43, 41, 53, 51, 43,  1, 56, 39, 49, 43, 57,\n",
            "        10,  1, 44, 53, 56,  1, 58, 46, 43,  1, 45, 53, 42, 57,  1, 49, 52, 53,\n",
            "        61,  1, 21,  0, 57, 54, 43, 39, 49,  1, 58, 46, 47, 57,  1, 47, 52,  1,\n",
            "        46, 59, 52, 45, 43, 56,  1, 44, 53, 56,  1, 40, 56, 43, 39, 42,  6,  1,\n",
            "        52, 53, 58,  1, 47, 52,  1, 58, 46, 47, 56, 57, 58,  1, 44, 53, 56,  1,\n",
            "        56, 43, 60, 43, 52, 45, 43,  8,  0,  0])\n"
          ]
        }
      ]
    },
    {
      "cell_type": "code",
      "source": [
        "n= int(0.9*len(data)) #Train 90 percent of the data\n",
        "train_data =data[:n]\n",
        "val_data=data[n:]"
      ],
      "metadata": {
        "id": "SaPcJcX0rjSY"
      },
      "execution_count": 9,
      "outputs": []
    },
    {
      "cell_type": "code",
      "source": [
        "block_size = 10  # Train in blocks for computational efficiency--> Max context length for predicitions\n",
        "train_data[:block_size+1] # Have to go +1 since block size = 10 --> Want next prediction after 10\n"
      ],
      "metadata": {
        "colab": {
          "base_uri": "https://localhost:8080/"
        },
        "id": "oFWYnvEas5MN",
        "outputId": "776d7236-d3ee-48ec-9125-dea082dc04d3"
      },
      "execution_count": 10,
      "outputs": [
        {
          "output_type": "execute_result",
          "data": {
            "text/plain": [
              "tensor([18, 47, 56, 57, 58,  1, 15, 47, 58, 47, 64])"
            ]
          },
          "metadata": {},
          "execution_count": 10
        }
      ]
    },
    {
      "cell_type": "code",
      "source": [
        "x=train_data[:block_size] # inputs to transformer\n",
        "y=train_data[1:block_size+1] # next block size chars\n",
        "for t in range(block_size): # iterate over block size of 10\n",
        "  context=x[:t+1]\n",
        "  target=y [t]\n",
        "  print(f\"When input is {context}, the target is:{target}\")"
      ],
      "metadata": {
        "colab": {
          "base_uri": "https://localhost:8080/"
        },
        "id": "DRoCxr6XtFBO",
        "outputId": "ecd5c0d2-80ce-4ba7-d753-f902ba194bc0"
      },
      "execution_count": 11,
      "outputs": [
        {
          "output_type": "stream",
          "name": "stdout",
          "text": [
            "When input is tensor([18]), the target is:47\n",
            "When input is tensor([18, 47]), the target is:56\n",
            "When input is tensor([18, 47, 56]), the target is:57\n",
            "When input is tensor([18, 47, 56, 57]), the target is:58\n",
            "When input is tensor([18, 47, 56, 57, 58]), the target is:1\n",
            "When input is tensor([18, 47, 56, 57, 58,  1]), the target is:15\n",
            "When input is tensor([18, 47, 56, 57, 58,  1, 15]), the target is:47\n",
            "When input is tensor([18, 47, 56, 57, 58,  1, 15, 47]), the target is:58\n",
            "When input is tensor([18, 47, 56, 57, 58,  1, 15, 47, 58]), the target is:47\n",
            "When input is tensor([18, 47, 56, 57, 58,  1, 15, 47, 58, 47]), the target is:64\n"
          ]
        }
      ]
    },
    {
      "cell_type": "code",
      "source": [
        "torch.manual_seed(1337)\n",
        "batch_size=5 # independent sequences to process in parallel\n",
        "block_size =10\n",
        "\n",
        "def get_batch(split):\n",
        "  data=train_data if split =='train' else val_data #define data--> train else test\n",
        "  ix=torch.randint(len(data)- block_size, (batch_size,)) # random offsets of batch size 5\n",
        "  x= torch.stack([data[i:i+block_size] for i in ix])\n",
        "  y= torch.stack([data[i+1:i+block_size+1]for i in ix])\n",
        "  return x,y\n",
        "\n",
        "xb,yb =get_batch('train')\n",
        "print('inputs:')\n",
        "print(xb.shape)\n",
        "print(xb)\n",
        "print('targets:')\n",
        "print(yb.shape)\n",
        "print(yb)\n",
        "\n",
        "print('----')\n",
        "\n",
        "for b in range(batch_size):\n",
        "  for t in range(block_size):\n",
        "    context = xb[b,:t+1]\n",
        "    target=   yb[b,t]\n",
        "    print(f\"When input is{context.tolist()} the target:{target}\")"
      ],
      "metadata": {
        "colab": {
          "base_uri": "https://localhost:8080/"
        },
        "id": "2d6uHKdXuyLG",
        "outputId": "d1ef0a41-ce61-461c-8a96-567950bd81b6"
      },
      "execution_count": 12,
      "outputs": [
        {
          "output_type": "stream",
          "name": "stdout",
          "text": [
            "inputs:\n",
            "torch.Size([5, 10])\n",
            "tensor([[56, 41, 46,  1, 53,  5,  1, 58, 46, 43],\n",
            "        [14, 33, 15, 23, 21, 26, 19, 20, 13, 25],\n",
            "        [58, 46, 43, 56, 10,  0, 14, 59, 58,  1],\n",
            "        [47, 60, 43,  1, 51, 43,  1, 58, 46, 63],\n",
            "        [54, 53, 50, 50, 53,  1, 54, 50, 39, 63]])\n",
            "targets:\n",
            "torch.Size([5, 10])\n",
            "tensor([[41, 46,  1, 53,  5,  1, 58, 46, 43,  1],\n",
            "        [33, 15, 23, 21, 26, 19, 20, 13, 25, 10],\n",
            "        [46, 43, 56, 10,  0, 14, 59, 58,  1, 21],\n",
            "        [60, 43,  1, 51, 43,  1, 58, 46, 63,  1],\n",
            "        [53, 50, 50, 53,  1, 54, 50, 39, 63, 57]])\n",
            "----\n",
            "When input is[56] the target:41\n",
            "When input is[56, 41] the target:46\n",
            "When input is[56, 41, 46] the target:1\n",
            "When input is[56, 41, 46, 1] the target:53\n",
            "When input is[56, 41, 46, 1, 53] the target:5\n",
            "When input is[56, 41, 46, 1, 53, 5] the target:1\n",
            "When input is[56, 41, 46, 1, 53, 5, 1] the target:58\n",
            "When input is[56, 41, 46, 1, 53, 5, 1, 58] the target:46\n",
            "When input is[56, 41, 46, 1, 53, 5, 1, 58, 46] the target:43\n",
            "When input is[56, 41, 46, 1, 53, 5, 1, 58, 46, 43] the target:1\n",
            "When input is[14] the target:33\n",
            "When input is[14, 33] the target:15\n",
            "When input is[14, 33, 15] the target:23\n",
            "When input is[14, 33, 15, 23] the target:21\n",
            "When input is[14, 33, 15, 23, 21] the target:26\n",
            "When input is[14, 33, 15, 23, 21, 26] the target:19\n",
            "When input is[14, 33, 15, 23, 21, 26, 19] the target:20\n",
            "When input is[14, 33, 15, 23, 21, 26, 19, 20] the target:13\n",
            "When input is[14, 33, 15, 23, 21, 26, 19, 20, 13] the target:25\n",
            "When input is[14, 33, 15, 23, 21, 26, 19, 20, 13, 25] the target:10\n",
            "When input is[58] the target:46\n",
            "When input is[58, 46] the target:43\n",
            "When input is[58, 46, 43] the target:56\n",
            "When input is[58, 46, 43, 56] the target:10\n",
            "When input is[58, 46, 43, 56, 10] the target:0\n",
            "When input is[58, 46, 43, 56, 10, 0] the target:14\n",
            "When input is[58, 46, 43, 56, 10, 0, 14] the target:59\n",
            "When input is[58, 46, 43, 56, 10, 0, 14, 59] the target:58\n",
            "When input is[58, 46, 43, 56, 10, 0, 14, 59, 58] the target:1\n",
            "When input is[58, 46, 43, 56, 10, 0, 14, 59, 58, 1] the target:21\n",
            "When input is[47] the target:60\n",
            "When input is[47, 60] the target:43\n",
            "When input is[47, 60, 43] the target:1\n",
            "When input is[47, 60, 43, 1] the target:51\n",
            "When input is[47, 60, 43, 1, 51] the target:43\n",
            "When input is[47, 60, 43, 1, 51, 43] the target:1\n",
            "When input is[47, 60, 43, 1, 51, 43, 1] the target:58\n",
            "When input is[47, 60, 43, 1, 51, 43, 1, 58] the target:46\n",
            "When input is[47, 60, 43, 1, 51, 43, 1, 58, 46] the target:63\n",
            "When input is[47, 60, 43, 1, 51, 43, 1, 58, 46, 63] the target:1\n",
            "When input is[54] the target:53\n",
            "When input is[54, 53] the target:50\n",
            "When input is[54, 53, 50] the target:50\n",
            "When input is[54, 53, 50, 50] the target:53\n",
            "When input is[54, 53, 50, 50, 53] the target:1\n",
            "When input is[54, 53, 50, 50, 53, 1] the target:54\n",
            "When input is[54, 53, 50, 50, 53, 1, 54] the target:50\n",
            "When input is[54, 53, 50, 50, 53, 1, 54, 50] the target:39\n",
            "When input is[54, 53, 50, 50, 53, 1, 54, 50, 39] the target:63\n",
            "When input is[54, 53, 50, 50, 53, 1, 54, 50, 39, 63] the target:57\n"
          ]
        }
      ]
    },
    {
      "cell_type": "code",
      "source": [
        "import torch\n",
        "torch.cuda.is_available()"
      ],
      "metadata": {
        "colab": {
          "base_uri": "https://localhost:8080/"
        },
        "id": "ZgJYrhHDBXkk",
        "outputId": "09b3181a-aaac-4055-f29e-69c95eb2d42e"
      },
      "execution_count": 13,
      "outputs": [
        {
          "output_type": "execute_result",
          "data": {
            "text/plain": [
              "False"
            ]
          },
          "metadata": {},
          "execution_count": 13
        }
      ]
    },
    {
      "cell_type": "code",
      "source": [
        "print(xb) #input to transformer"
      ],
      "metadata": {
        "colab": {
          "base_uri": "https://localhost:8080/"
        },
        "id": "GFsALNdyGW1l",
        "outputId": "9ff6c986-7f58-4d23-bc34-4134fbfb4cff"
      },
      "execution_count": 14,
      "outputs": [
        {
          "output_type": "stream",
          "name": "stdout",
          "text": [
            "tensor([[56, 41, 46,  1, 53,  5,  1, 58, 46, 43],\n",
            "        [14, 33, 15, 23, 21, 26, 19, 20, 13, 25],\n",
            "        [58, 46, 43, 56, 10,  0, 14, 59, 58,  1],\n",
            "        [47, 60, 43,  1, 51, 43,  1, 58, 46, 63],\n",
            "        [54, 53, 50, 50, 53,  1, 54, 50, 39, 63]])\n"
          ]
        }
      ]
    },
    {
      "cell_type": "code",
      "source": [
        "print(vocab_size)"
      ],
      "metadata": {
        "colab": {
          "base_uri": "https://localhost:8080/"
        },
        "id": "TLFdaRGAI2fQ",
        "outputId": "fcbf8947-b7c2-4e07-858d-674ce0934c34"
      },
      "execution_count": 15,
      "outputs": [
        {
          "output_type": "stream",
          "name": "stdout",
          "text": [
            "65\n"
          ]
        }
      ]
    },
    {
      "cell_type": "code",
      "source": [
        "import torch.nn as nn\n",
        "from torch.nn import functional as F\n",
        "torch.manual_seed(1337)\n",
        "\n",
        "class BigramLanguageModel(nn.Module):\n",
        "\n",
        "  def __init__(self,vocab_size):\n",
        "    super().__init__()\n",
        "    self.token_embedding_table=nn.Embedding(vocab_size,vocab_size)\n",
        "\n",
        "  def forward(self,idx,targets=None):\n",
        "\n",
        "    logits=self.token_embedding_table(idx) #(B,T,C)--> Batch = 5, Time = 10, Channel = vocab_size = 65\n",
        "    if targets is None:\n",
        "      loss=None\n",
        "    else:\n",
        "      B, T, C= logits.shape\n",
        "      logits=logits.view(B*T, C) #changes shape of tensor for PyTorch\n",
        "      targets=targets.view(B*T)\n",
        "      loss = F.cross_entropy(logits, targets) # loss = cross entropy on logits and targets\n",
        "\n",
        "    return logits,loss\n",
        "\n",
        "  def generate(self, idx, max_new_tokens):  #idx is (B,T) array of indices in the current context--> Creates B, T--> B, T+1--> B, T+2--> to max new tokens\n",
        "    for _ in range(max_new_tokens):\n",
        "      logits,loss = self(idx) # get the predictions\n",
        "      logits=logits[:,-1,:]  # focus only on the last time step\n",
        "      probs=F.softmax(logits, dim=1)  # apply softmax to get probabilities\n",
        "      idx_next=torch.multinomial(probs, num_samples=1) #sample from the distribution\n",
        "      idx= torch.cat((idx, idx_next), dim=1) #append sampled index to the running sequence\n",
        "    return idx\n",
        "\n",
        "\n",
        "\n",
        "\n",
        "m= BigramLanguageModel(vocab_size)\n",
        "out=m(xb,yb)\n",
        "logits,loss=m(xb,yb)\n",
        "print(logits.shape)\n",
        "print(loss)\n",
        "\n",
        "\n",
        "print(decode(m.generate(idx=torch.zeros((1,1),dtype=torch.long), max_new_tokens=100)[0].tolist()))\n",
        "\n"
      ],
      "metadata": {
        "colab": {
          "base_uri": "https://localhost:8080/"
        },
        "id": "IfFA3wfF8IG6",
        "outputId": "2240148f-e0fe-4283-9c27-7554088d3d2c"
      },
      "execution_count": 16,
      "outputs": [
        {
          "output_type": "stream",
          "name": "stdout",
          "text": [
            "torch.Size([50, 65])\n",
            "tensor(4.5596, grad_fn=<NllLossBackward0>)\n",
            "\n",
            "Sr?qP-QWktXoL&jLDJgOLVz'RIoDqHdhsV&vLLxatjscMpwLERSPyao.qfzs$Ys$zF-w,;eEkzxjgCKFChs!iWW.ObzDnxA Ms$3\n"
          ]
        }
      ]
    },
    {
      "cell_type": "code",
      "source": [
        "logits"
      ],
      "metadata": {
        "colab": {
          "base_uri": "https://localhost:8080/"
        },
        "id": "Cp5Ui4WEPWwO",
        "outputId": "843b2f0f-1d87-4f5b-893f-771eb2b352e2"
      },
      "execution_count": 17,
      "outputs": [
        {
          "output_type": "execute_result",
          "data": {
            "text/plain": [
              "tensor([[-0.6722,  0.2322, -0.1632,  ...,  0.1390,  0.7560,  0.4296],\n",
              "        [-1.1895, -0.8407,  0.3134,  ...,  0.6707, -0.5969,  0.7567],\n",
              "        [ 1.0901,  0.2170, -2.9996,  ..., -0.5472, -0.8017,  0.7761],\n",
              "        ...,\n",
              "        [-0.7470, -1.4852,  0.1714,  ...,  2.2019,  2.4498,  0.6347],\n",
              "        [ 1.1513,  1.0539,  3.4105,  ..., -0.5686,  0.9079, -0.1701],\n",
              "        [-0.8109,  0.2410, -0.1139,  ...,  1.4509,  0.1836,  0.3064]],\n",
              "       grad_fn=<ViewBackward0>)"
            ]
          },
          "metadata": {},
          "execution_count": 17
        }
      ]
    },
    {
      "cell_type": "code",
      "source": [
        "# Now want to train the model so will make optimizer\n",
        "optimizer=torch.optim.AdamW(m.parameters(), lr=1e-3) # Used AdamW as optimizer--->\n"
      ],
      "metadata": {
        "id": "MVLHzX5A1i82"
      },
      "execution_count": 24,
      "outputs": []
    },
    {
      "cell_type": "code",
      "source": [
        "batch_size=32\n",
        "for steps in range(1000):\n",
        "  xb,yb= get_batch('train') # sample a batch of data\n",
        "  logits,loss= m(xb, yb)\n",
        "  optimizer.zero_grad(set_to_none=True) # Zero out gradients from previous step\n",
        "  loss.backward() # get gradients for parameters\n",
        "  optimizer.step() # use gradients to update the parameters\n",
        "\n",
        "print(loss.item())\n",
        "\n"
      ],
      "metadata": {
        "colab": {
          "base_uri": "https://localhost:8080/"
        },
        "id": "sl0mY_XCJUi7",
        "outputId": "81824072-8c2a-4404-bc79-0e7675256d9c"
      },
      "execution_count": 26,
      "outputs": [
        {
          "output_type": "stream",
          "name": "stdout",
          "text": [
            "2.7870359420776367\n"
          ]
        }
      ]
    },
    {
      "cell_type": "code",
      "source": [
        "print(decode(m.generate(idx=torch.zeros((1,1),dtype=torch.long), max_new_tokens=100)[0].tolist()))"
      ],
      "metadata": {
        "colab": {
          "base_uri": "https://localhost:8080/"
        },
        "id": "2q3BgcAGKGZK",
        "outputId": "79ca7f46-4d4d-4cc1-b1ff-2f9b93eb78c5"
      },
      "execution_count": 32,
      "outputs": [
        {
          "output_type": "stream",
          "name": "stdout",
          "text": [
            "\n",
            "\n",
            "YBYQ? cHues$zbeede'AU?$d\n",
            "N3UNoicord&vWVk dgn biriKIINingXNCELQluls OMABToug;AU,& mes,\n",
            "\n",
            "YM:CUSlico.\n",
            "\n"
          ]
        }
      ]
    },
    {
      "cell_type": "code",
      "source": [
        "# Big improvement from line 16 results !!!"
      ],
      "metadata": {
        "id": "tIfBIyuwKGk0"
      },
      "execution_count": 21,
      "outputs": []
    },
    {
      "cell_type": "code",
      "source": [
        "print(decode(m.generate(idx=torch.zeros((1,1),dtype=torch.long), max_new_tokens=400)[0].tolist()))"
      ],
      "metadata": {
        "colab": {
          "base_uri": "https://localhost:8080/"
        },
        "id": "O4sCGUIQKGn8",
        "outputId": "9dcd07f5-171f-47c7-bc6b-3fc3a6ef39f1"
      },
      "execution_count": 34,
      "outputs": [
        {
          "output_type": "stream",
          "name": "stdout",
          "text": [
            "\n",
            "WprJBwfimy sTh bryano o,\n",
            "PSe.\n",
            "Ifr g-ur fr, RCHe sEDIlinQJHNPuthaHZ? cerd thirmTonl ba\n",
            "o I YCI'd\n",
            "M:\n",
            "ut-\n",
            "in o umDUZzImbllgry todshid\n",
            "WIO,p ck:pm to ag wh\n",
            "\n",
            "SVOOLAP.Prd, maRSSPote akGS3Bwitason my;f INove qa-bory avVjFo s mzCNN uf laHERSoohasERwe, thFXUMO s bakeqhond? y d bQRFay AngilaiendqAs, :PHoDin msur sshNCOJUzlurFqOR-nu\n",
            "\n",
            "IBUve CADbe?p3f NCORomay'y ll, tNGCotenWG;Dq-thu of,lmV&vets wan!oZHosoXKWA\n"
          ]
        }
      ]
    },
    {
      "cell_type": "code",
      "source": [
        "# Increased tokens to 400--> even better than line 29"
      ],
      "metadata": {
        "id": "hTAXmROdKGrM"
      },
      "execution_count": 23,
      "outputs": []
    },
    {
      "cell_type": "code",
      "source": [],
      "metadata": {
        "id": "cW9ELlsKKGvp"
      },
      "execution_count": 23,
      "outputs": []
    },
    {
      "cell_type": "code",
      "source": [],
      "metadata": {
        "id": "bG6lj4TNLxtg"
      },
      "execution_count": 23,
      "outputs": []
    },
    {
      "cell_type": "code",
      "source": [],
      "metadata": {
        "id": "0qBU3GG_LxyD"
      },
      "execution_count": 23,
      "outputs": []
    },
    {
      "cell_type": "code",
      "source": [],
      "metadata": {
        "id": "sFxQC5yjLx01"
      },
      "execution_count": 23,
      "outputs": []
    },
    {
      "cell_type": "code",
      "source": [],
      "metadata": {
        "id": "4Wsu2Dd0Lx3t"
      },
      "execution_count": 23,
      "outputs": []
    },
    {
      "cell_type": "code",
      "source": [],
      "metadata": {
        "id": "iA0W4byCLx54"
      },
      "execution_count": 23,
      "outputs": []
    },
    {
      "cell_type": "code",
      "source": [],
      "metadata": {
        "id": "TxoBsM--Lx78"
      },
      "execution_count": 23,
      "outputs": []
    },
    {
      "cell_type": "code",
      "source": [],
      "metadata": {
        "id": "JZv_e8dmLyBC"
      },
      "execution_count": 23,
      "outputs": []
    }
  ]
}